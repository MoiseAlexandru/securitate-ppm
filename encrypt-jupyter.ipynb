{
 "cells": [
  {
   "cell_type": "code",
   "execution_count": 1,
   "id": "bdb54d5e-8bbf-4b3d-81b0-a5134ec75572",
   "metadata": {
    "tags": []
   },
   "outputs": [
    {
     "name": "stdout",
     "output_type": "stream",
     "text": [
      "Requirement already satisfied: pycryptodome in c:\\users\\moise\\anaconda3\\lib\\site-packages (3.20.0)\n",
      "Note: you may need to restart the kernel to use updated packages.\n"
     ]
    }
   ],
   "source": [
    "pip install pycryptodome"
   ]
  },
  {
   "cell_type": "code",
   "execution_count": 48,
   "id": "0131ec0d-b064-4472-9710-27879e42e605",
   "metadata": {
    "tags": []
   },
   "outputs": [],
   "source": [
    "import hashlib\n",
    "from Crypto.Cipher import AES\n",
    "from Crypto.Random import get_random_bytes\n",
    "from Crypto.Util.Padding import pad, unpad\n",
    "\n",
    "key = get_random_bytes(16)\n",
    "cipher = AES.new(key, AES.MODE_ECB)\n",
    "\n",
    "hashuri = []"
   ]
  },
  {
   "cell_type": "code",
   "execution_count": 49,
   "id": "71d7cfb9-f9a6-4781-b7db-0bb3a68edfcf",
   "metadata": {},
   "outputs": [],
   "source": [
    "\n",
    "\n",
    "def cripteaza_litera(litera):\n",
    "    path = \"./litere-ppm/\" + litera + \".ppm\"\n",
    "    output_path = \"./litere-criptate/\" + litera + \".ppm\"\n",
    "    \n",
    "    with open(path, 'rb') as fisier:\n",
    "        p6 = fisier.readline().decode(\"utf-8\").strip()\n",
    "        dim = fisier.readline().decode(\"utf-8\").strip().split(\" \")\n",
    "        size_x, size_y = dim[0].strip(), dim[1].strip()\n",
    "        pixel = fisier.readline().decode(\"utf-8\").strip()\n",
    "\n",
    "        imagine = fisier.read()\n",
    "        imagine = pad(imagine, 16)\n",
    "\n",
    "        header = p6 + \" \" + size_x + \" \" + size_y + \" \" + pixel\n",
    "        encrypted_header = hashlib.sha256(header.encode())\n",
    "        imagine_criptata = cipher.encrypt(imagine)\n",
    "        \n",
    "        with open(output_path, 'wb') as output_file:\n",
    "            output_file.write(imagine_criptata)\n",
    "        hashuri.append(header)"
   ]
  },
  {
   "cell_type": "code",
   "execution_count": 50,
   "id": "b6d190bf-ac29-4667-8413-da3a9b8876b2",
   "metadata": {
    "tags": []
   },
   "outputs": [
    {
     "name": "stdout",
     "output_type": "stream",
     "text": [
      "['P6 720 960 255', 'P6 720 960 255', 'P6 720 960 255', 'P6 197 255 255', 'P6 194 259 255']\n"
     ]
    }
   ],
   "source": [
    "cripteaza_litera('M')\n",
    "cripteaza_litera('O')\n",
    "cripteaza_litera('I')\n",
    "cripteaza_litera('S')\n",
    "cripteaza_litera('E')\n",
    "print(hashuri)"
   ]
  },
  {
   "cell_type": "code",
   "execution_count": null,
   "id": "65a6f7a2-fa45-43d0-a05e-ceb0656d4e40",
   "metadata": {},
   "outputs": [],
   "source": []
  },
  {
   "cell_type": "code",
   "execution_count": null,
   "id": "5ee415a6-9e91-4325-9f38-8ac7f7e6bc7c",
   "metadata": {},
   "outputs": [],
   "source": []
  }
 ],
 "metadata": {
  "kernelspec": {
   "display_name": "Python 3 (ipykernel)",
   "language": "python",
   "name": "python3"
  },
  "language_info": {
   "codemirror_mode": {
    "name": "ipython",
    "version": 3
   },
   "file_extension": ".py",
   "mimetype": "text/x-python",
   "name": "python",
   "nbconvert_exporter": "python",
   "pygments_lexer": "ipython3",
   "version": "3.11.5"
  }
 },
 "nbformat": 4,
 "nbformat_minor": 5
}
